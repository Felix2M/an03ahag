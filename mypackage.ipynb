{
 "cells": [
  {
   "cell_type": "code",
   "execution_count": 6,
   "metadata": {},
   "outputs": [],
   "source": [
    "import numpy as np\n",
    "from ipywidgets import interact, fixed\n",
    "from PIL import Image\n",
    "\n",
    "#img = np.random.randint(0, 255, (256, 256, 3)) #enter your picture as an array\n",
    "\n",
    "def imshow(X, resize=None):\n",
    "    img = Image.fromarray(np.uint8(X))\n",
    "    img = img.resize(resize)\n",
    "    return img\n",
    "    \n",
    "#imshow(img, resize=(20,50)) #use imshow(arrayYouWannaResize, resize=(width, height))\n",
    "    #\"\"\"\n",
    "    #You should create a way to resize an image from an array X. \n",
    "    #The use of widgets is optional but you can take a look to interact.\n",
    "    #We should be able to install this pack"
   ]
  },
  {
   "cell_type": "code",
   "execution_count": null,
   "metadata": {},
   "outputs": [],
   "source": []
  },
  {
   "cell_type": "code",
   "execution_count": null,
   "metadata": {},
   "outputs": [],
   "source": []
  },
  {
   "cell_type": "code",
   "execution_count": null,
   "metadata": {},
   "outputs": [],
   "source": []
  }
 ],
 "metadata": {
  "kernelspec": {
   "display_name": "myvenv",
   "language": "python",
   "name": "myvenv"
  },
  "language_info": {
   "codemirror_mode": {
    "name": "ipython",
    "version": 3
   },
   "file_extension": ".py",
   "mimetype": "text/x-python",
   "name": "python",
   "nbconvert_exporter": "python",
   "pygments_lexer": "ipython3",
   "version": "3.7.4"
  }
 },
 "nbformat": 4,
 "nbformat_minor": 2
}
